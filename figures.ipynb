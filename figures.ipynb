version https://git-lfs.github.com/spec/v1
oid sha256:58cc4abbf9689220140297ecd242e3938f08aaba68db9298d47d885a2fcd4dd0
size 1111899
